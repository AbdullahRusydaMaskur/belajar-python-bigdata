{
  "nbformat": 4,
  "nbformat_minor": 0,
  "metadata": {
    "colab": {
      "provenance": []
    },
    "kernelspec": {
      "name": "python3",
      "display_name": "Python 3"
    }
  },
  "cells": [
    {
      "cell_type": "code",
      "metadata": {
        "id": "22s8pI85u5_J"
      },
      "source": [],
      "execution_count": null,
      "outputs": []
    },
    {
      "cell_type": "markdown",
      "metadata": {
        "id": "fPMZcyuxvINI"
      },
      "source": [
        "**Soal 5.1.1**\n",
        "\n",
        "Berikut ini adalah potongan kode implementasi fungsi *luas_limas_segi_empat()*\n",
        "``` javascript\n",
        "print(\"Luas : %d\" % luas_limas_segi_empat(Alas_limas, Tinggi_limas))​\n",
        "```\n",
        "Lengkapilah kode tersebut dengan merancang sebuah fungsi agar bisa diimplementasikan sesuai dengan statment potongan kode diatas.\n",
        "dengan mengetikan pada code cell di bawah ini pada editor."
      ]
    },
    {
      "cell_type": "code",
      "metadata": {
        "id": "WMeeaGjuxQfL",
        "colab": {
          "base_uri": "https://localhost:8080/"
        },
        "outputId": "987d9780-1322-4e2f-dfd0-aba1cf316409"
      },
      "source": [
        "# Soal 4.1.1\n",
        "def luas_limas_segi_empat(Alas_limas, Tinggi_limas):\n",
        "    # Menghitung luas limas segi empat\n",
        "    luas_alas = Alas_limas ** 2  # Luas alas limas segi empat\n",
        "    luas_permukaan_limas = luas_alas + 4 * (0.5 * Alas_limas * Tinggi_limas)  # Luas permukaan limas\n",
        "\n",
        "    return luas_permukaan_limas\n",
        "\n",
        "# Input nilai Alas_limas dan Tinggi_limas dari pengguna\n",
        "Alas_limas = float(input(\"Masukkan nilai Alas_limas: \"))\n",
        "Tinggi_limas = float(input(\"Masukkan nilai Tinggi_limas: \"))\n",
        "\n",
        "# Memanggil fungsi luas_limas_segi_empat() dan menampilkan hasilnya\n",
        "print(\"Luas : %d\" % luas_limas_segi_empat(Alas_limas, Tinggi_limas))\n"
      ],
      "execution_count": 2,
      "outputs": [
        {
          "output_type": "stream",
          "name": "stdout",
          "text": [
            "Masukkan nilai Alas_limas: 5\n",
            "Masukkan nilai Tinggi_limas: 7\n",
            "Luas : 95\n"
          ]
        }
      ]
    }
  ]
}