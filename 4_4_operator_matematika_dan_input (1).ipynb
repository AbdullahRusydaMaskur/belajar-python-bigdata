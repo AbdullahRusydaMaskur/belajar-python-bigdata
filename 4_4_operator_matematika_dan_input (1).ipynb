{
  "nbformat": 4,
  "nbformat_minor": 0,
  "metadata": {
    "colab": {
      "provenance": []
    },
    "kernelspec": {
      "name": "python3",
      "display_name": "Python 3"
    }
  },
  "cells": [
    {
      "cell_type": "code",
      "metadata": {
        "id": "f7WajviOKztl"
      },
      "source": [],
      "execution_count": null,
      "outputs": []
    },
    {
      "cell_type": "markdown",
      "metadata": {
        "id": "Zf9uJW37LCfb"
      },
      "source": [
        "**Praktek Operasi Input Dan Operator Matematika**\n",
        "\n",
        "Bukalah kembali praktek operator matematika.\n",
        "\n",
        "Ubahlah agar variable **a** dan **b** menggunakan input dari keyboard\n",
        "\n",
        "\n",
        "Implementasikan code di bawah ini pada kode cell editor:\n",
        "``` javascript\n",
        "selisih = a-b\n",
        "jumlah = a+b\n",
        "kali = a*b\n",
        "bagi = a/b\n",
        "print(\"Hasil penjumlahan dan b adalah\", jumlah)\n",
        "print(\"Selisih a dan b adalah :\",selisih)\n",
        "print(\"Hasil perkalian a dan b adalah :\",kali)\n",
        "print(\"Hasil  pembagian a dan b adalah:\",bagi)\n",
        "\n",
        "```\n",
        "\n",
        "\n",
        "Ketikan pada code cell di bawah ini pada editor:"
      ]
    },
    {
      "cell_type": "code",
      "metadata": {
        "id": "hYGfkiKOMo_x",
        "colab": {
          "base_uri": "https://localhost:8080/"
        },
        "outputId": "bc75f06f-2e8d-4b7b-d327-b24a2bf5dfd9"
      },
      "source": [
        "##Jawaban Tugas Praktek 3.4\n",
        "# Meminta input dari pengguna untuk variabel a dan b\n",
        "a = float(input(\"Masukkan nilai a: \"))\n",
        "b = float(input(\"Masukkan nilai b: \"))\n",
        "\n",
        "# Menghitung operasi matematika\n",
        "selisih = a - b\n",
        "jumlah = a + b\n",
        "kali = a * b\n",
        "bagi = a / b\n",
        "\n",
        "# Menampilkan hasil operasi matematika\n",
        "print(\"Hasil penjumlahan a dan b adalah\", jumlah)\n",
        "print(\"Selisih a dan b adalah :\", selisih)\n",
        "print(\"Hasil perkalian a dan b adalah :\", kali)\n",
        "print(\"Hasil pembagian a dan b adalah:\", bagi)\n",
        "\n"
      ],
      "execution_count": 1,
      "outputs": [
        {
          "output_type": "stream",
          "name": "stdout",
          "text": [
            "Masukkan nilai a: 5\n",
            "Masukkan nilai b: 6\n",
            "Hasil penjumlahan a dan b adalah 11.0\n",
            "Selisih a dan b adalah : -1.0\n",
            "Hasil perkalian a dan b adalah : 30.0\n",
            "Hasil pembagian a dan b adalah: 0.8333333333333334\n"
          ]
        }
      ]
    }
  ]
}