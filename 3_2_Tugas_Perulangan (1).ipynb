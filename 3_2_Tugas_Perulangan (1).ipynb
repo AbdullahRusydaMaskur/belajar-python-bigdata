{
  "nbformat": 4,
  "nbformat_minor": 0,
  "metadata": {
    "colab": {
      "provenance": []
    },
    "kernelspec": {
      "name": "python3",
      "display_name": "Python 3"
    }
  },
  "cells": [
    {
      "cell_type": "code",
      "metadata": {
        "id": "fkV8YRAQlm-C"
      },
      "source": [],
      "execution_count": null,
      "outputs": []
    },
    {
      "cell_type": "markdown",
      "metadata": {
        "id": "lnkJ-zBHl3jp"
      },
      "source": [
        "## Access Element\n",
        "Keunikan lain dari looping dengan python adalah selain bahasa yang mudah dimengerti dalam looping, kita juga bisa mengakses elemen yang terdapat pada sebuah list. Berikut ini contohnya :\n",
        "``` javascript\n",
        "#Tugas 3.2.1\n",
        "count=[1,2,3,4,5] #elemen list\n",
        "\n",
        "for number in count: #looping untuk menampilkan semua elemen pada count\n",
        "    print(\"Ini adalah element count : \", number) #menampilkan elemen list pada count\n",
        "```\n",
        "Implekementasikan kode diatas, ketikan pada code cell di bawah ini, berikan penjelasan terkait kode diatas"
      ]
    },
    {
      "cell_type": "code",
      "metadata": {
        "id": "xYjQqqNLm-dB"
      },
      "source": [
        "# Jawaban Tugas 3.2.1"
      ],
      "execution_count": null,
      "outputs": []
    },
    {
      "cell_type": "markdown",
      "metadata": {
        "id": "figDWKAcnZRA"
      },
      "source": [
        "## Tugas Praktek 3.2.2\n",
        "1. Buatlah sebuah program yang bisa mengeluarkan angka 1 sampai 10.\n",
        "1. Buatlah sebuah program yang bisa mengeluarkan angka -20 sampai -50.\n",
        "3. Tampilan akan menunjukan \"Angka ganjil 1\" untuk angka ganjil dan \"Angka genap 2\" untuk angka genap. (Menggunakan looping for)\n",
        "\n",
        "**Note:** Kode dasar sudah disertakan, Anda cukup mengganti tanda # dengan nilai-nilai yang sesuai."
      ]
    },
    {
      "cell_type": "code",
      "metadata": {
        "id": "MElhruOTntzZ",
        "colab": {
          "base_uri": "https://localhost:8080/"
        },
        "outputId": "ce64559a-ee84-4a73-9ebc-815de45c7e05"
      },
      "source": [
        "#Jawaban Tugas 3.2.1.1\n",
        "count=[1,2,3,4,5,6,7,8,9,10]\n",
        "for i in count:\n",
        "  print(\"Ini adalah element count ke \",i)"
      ],
      "execution_count": 1,
      "outputs": [
        {
          "output_type": "stream",
          "name": "stdout",
          "text": [
            "Ini adalah element count ke  1\n",
            "Ini adalah element count ke  2\n",
            "Ini adalah element count ke  3\n",
            "Ini adalah element count ke  4\n",
            "Ini adalah element count ke  5\n",
            "Ini adalah element count ke  6\n",
            "Ini adalah element count ke  7\n",
            "Ini adalah element count ke  8\n",
            "Ini adalah element count ke  9\n",
            "Ini adalah element count ke  10\n"
          ]
        }
      ]
    },
    {
      "cell_type": "code",
      "metadata": {
        "id": "NFtMjrQznuF2",
        "colab": {
          "base_uri": "https://localhost:8080/"
        },
        "outputId": "d079b3a6-6ae5-4dc1-92dc-b8b5e424782e"
      },
      "source": [
        "#Jawaban Tugas 3.2.1.2\n",
        "for i in range(-20, -51, -1):\n",
        "  print(\"Ini adalah element i ke \",i)"
      ],
      "execution_count": 4,
      "outputs": [
        {
          "output_type": "stream",
          "name": "stdout",
          "text": [
            "Ini adalah element i ke  -20\n",
            "Ini adalah element i ke  -21\n",
            "Ini adalah element i ke  -22\n",
            "Ini adalah element i ke  -23\n",
            "Ini adalah element i ke  -24\n",
            "Ini adalah element i ke  -25\n",
            "Ini adalah element i ke  -26\n",
            "Ini adalah element i ke  -27\n",
            "Ini adalah element i ke  -28\n",
            "Ini adalah element i ke  -29\n",
            "Ini adalah element i ke  -30\n",
            "Ini adalah element i ke  -31\n",
            "Ini adalah element i ke  -32\n",
            "Ini adalah element i ke  -33\n",
            "Ini adalah element i ke  -34\n",
            "Ini adalah element i ke  -35\n",
            "Ini adalah element i ke  -36\n",
            "Ini adalah element i ke  -37\n",
            "Ini adalah element i ke  -38\n",
            "Ini adalah element i ke  -39\n",
            "Ini adalah element i ke  -40\n",
            "Ini adalah element i ke  -41\n",
            "Ini adalah element i ke  -42\n",
            "Ini adalah element i ke  -43\n",
            "Ini adalah element i ke  -44\n",
            "Ini adalah element i ke  -45\n",
            "Ini adalah element i ke  -46\n",
            "Ini adalah element i ke  -47\n",
            "Ini adalah element i ke  -48\n",
            "Ini adalah element i ke  -49\n",
            "Ini adalah element i ke  -50\n"
          ]
        }
      ]
    },
    {
      "cell_type": "code",
      "metadata": {
        "id": "xpGigMPBpBy7",
        "colab": {
          "base_uri": "https://localhost:8080/"
        },
        "outputId": "35841183-3564-4873-dff9-8a583e2ef20b"
      },
      "source": [
        "#Jawaban Tugas 3.2.1.3\n",
        "\n",
        "count=[1,2,3,4,5,6,7,8,9,10]\n",
        "for i in count:\n",
        "  if i % 2==0:\n",
        "    print(\"Ini adalah element count ke \",i,\" adalah genap\")\n",
        "  else:\n",
        "    print(\"Ini adalah element count ke \",i,\" adalah ganjil\")"
      ],
      "execution_count": 7,
      "outputs": [
        {
          "output_type": "stream",
          "name": "stdout",
          "text": [
            "Ini adalah element count ke  1  adalah ganjil\n",
            "Ini adalah element count ke  2  adalah genap\n",
            "Ini adalah element count ke  3  adalah ganjil\n",
            "Ini adalah element count ke  4  adalah genap\n",
            "Ini adalah element count ke  5  adalah ganjil\n",
            "Ini adalah element count ke  6  adalah genap\n",
            "Ini adalah element count ke  7  adalah ganjil\n",
            "Ini adalah element count ke  8  adalah genap\n",
            "Ini adalah element count ke  9  adalah ganjil\n",
            "Ini adalah element count ke  10  adalah genap\n"
          ]
        }
      ]
    }
  ]
}